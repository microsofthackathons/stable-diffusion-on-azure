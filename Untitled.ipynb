{
 "cells": [
  {
   "cell_type": "markdown",
   "id": "70d5c9c8",
   "metadata": {},
   "source": [
    "* https://github.com/Azure/azureml-examples/blob/055a7cd66710197682a26a5014db173f521b0d62/sdk/endpoints/online/triton/single-model/online-endpoints-triton.ipynb\n",
    "* https://github.com/Azure/azureml-examples/blob/c2807d2c42d8491b722c1f5c0276d3c0ba2897c2/sdk/endpoints/online/custom-container/online-endpoints-custom-container.ipynb\n",
    "* https://github.com/Azure/azureml-examples/blob/c2807d2c42d8491b722c1f5c0276d3c0ba2897c2/sdk/endpoints/online/managed/online-endpoints-simple-deployment.ipynb"
   ]
  },
  {
   "cell_type": "code",
   "execution_count": 38,
   "id": "7490cc0d",
   "metadata": {},
   "outputs": [],
   "source": [
    "# Import required libraries\n",
    "import datetime\n",
    "from azure.identity import DefaultAzureCredential\n",
    "from azure.ai.ml import MLClient\n",
    "\n",
    "from azure.ai.ml.constants import AssetTypes, InputOutputModes\n",
    "from azure.ai.ml import Input\n",
    "from azure.ai.ml.automl import ImageClassificationSearchSpace\n",
    "from azure.ai.ml.sweep import (\n",
    "    Choice,\n",
    "    Uniform,\n",
    "    BanditPolicy,\n",
    ")\n",
    "from azure.ai.ml.entities import (\n",
    "    ManagedOnlineEndpoint,\n",
    "    ManagedOnlineDeployment,\n",
    "    BatchDeployment,\n",
    "    Model,\n",
    "    Environment,\n",
    "    CodeConfiguration,\n",
    "    OnlineRequestSettings, #OnlineScaleSettings, ProbeSettings\n",
    ")\n",
    "from azure.ai.ml import automl"
   ]
  },
  {
   "cell_type": "code",
   "execution_count": 2,
   "id": "5ef71240",
   "metadata": {},
   "outputs": [
    {
     "name": "stderr",
     "output_type": "stream",
     "text": [
      "Found the config file in: .\\config.json\n"
     ]
    }
   ],
   "source": [
    "credential = DefaultAzureCredential()\n",
    "ml_client = MLClient.from_config(credential)"
   ]
  },
  {
   "cell_type": "code",
   "execution_count": 22,
   "id": "14b460fb",
   "metadata": {},
   "outputs": [],
   "source": [
    "ManagedOnlineDeployment?"
   ]
  },
  {
   "cell_type": "code",
   "execution_count": 3,
   "id": "4c82c62a",
   "metadata": {},
   "outputs": [],
   "source": [
    "model = Model(\n",
    "    path=f\"azureml://datastores/workspaceblobstore/paths/model.ckpt\",\n",
    "    name=\"stable-diffusion-ckpt\",\n",
    "    description=\"\",\n",
    "    tags={},\n",
    ")\n",
    "model = ml_client.create_or_update(model)"
   ]
  },
  {
   "cell_type": "code",
   "execution_count": 32,
   "id": "fe139e60",
   "metadata": {},
   "outputs": [],
   "source": [
    "env = Environment(\n",
    "    # name=\"tensoflow-serving\",\n",
    "    image=\"docker.io/shivammg/stable-diffusion:v1\",\n",
    "    inference_config={\n",
    "        \"liveness_route\": {\"port\": 5000, \"path\": \"/api/health\"},\n",
    "        \"readiness_route\": {\"port\": 5000, \"path\": \"/api/health\"},\n",
    "        \"scoring_route\": {\"port\": 5000, \"path\": \"/api/txt2img\"},\n",
    "    },\n",
    ")\n",
    "# env = ml_client.create_or_update(env)"
   ]
  },
  {
   "cell_type": "code",
   "execution_count": 26,
   "id": "01c0fab2",
   "metadata": {},
   "outputs": [],
   "source": [
    "endpoint = ManagedOnlineEndpoint(\n",
    "    name=\"stable-diffusion-\" + datetime.datetime.now().strftime(\"%Y%m%d%H%M\"),\n",
    "    auth_mode=\"key\",\n",
    ")\n",
    "endpoint = ml_client.online_endpoints.begin_create_or_update(endpoint)"
   ]
  },
  {
   "cell_type": "code",
   "execution_count": 40,
   "id": "243f0f03",
   "metadata": {},
   "outputs": [
    {
     "name": "stderr",
     "output_type": "stream",
     "text": [
      "Check: endpoint stable-diffusion-202209211753 exists\n",
      "Creating/updating online deployment red5 "
     ]
    },
    {
     "name": "stdout",
     "output_type": "stream",
     "text": [
      "....................................................................................................."
     ]
    },
    {
     "name": "stderr",
     "output_type": "stream",
     "text": [
      "Done (13m 1s)\n"
     ]
    }
   ],
   "source": [
    "red_deployment = ManagedOnlineDeployment(\n",
    "    name=\"red5\",\n",
    "    endpoint_name=endpoint.name,\n",
    "    model=model,\n",
    "    environment=env,\n",
    "    environment_variables={\n",
    "        #\"MODEL_BASE_PATH\": \"/var/azureml-app/azureml-models/tfserving-mounted/1\",\n",
    "        #\"MODEL_NAME\": \"half_plus_two\",\n",
    "        \"MODEL_DIR\": \"/var/azureml-app/azureml-models/stable-diffusion-ckpt/1\",\n",
    "    },\n",
    "    instance_type=\"Standard_NC6s_v3\",\n",
    "    instance_count=1,\n",
    "    # compute=compute,\n",
    "    request_settings=OnlineRequestSettings(request_timeout_ms=60*1000, max_concurrent_requests_per_instance=2, max_queue_wait_ms=1*1000)\n",
    ")\n",
    "red_deployment = ml_client.begin_create_or_update(red_deployment)"
   ]
  },
  {
   "cell_type": "code",
   "execution_count": 31,
   "id": "e1d25e15",
   "metadata": {},
   "outputs": [
    {
     "ename": "ValidationException",
     "evalue": "Must provide either version or label.",
     "output_type": "error",
     "traceback": [
      "\u001b[1;31m---------------------------------------------------------------------------\u001b[0m",
      "\u001b[1;31mValidationException\u001b[0m                       Traceback (most recent call last)",
      "Input \u001b[1;32mIn [31]\u001b[0m, in \u001b[0;36m<cell line: 2>\u001b[1;34m()\u001b[0m\n\u001b[0;32m      1\u001b[0m \u001b[38;5;66;03m# dep = ml_client.online_deployments.get('red3', 'stable-diffusion-202209172147')\u001b[39;00m\n\u001b[1;32m----> 2\u001b[0m \u001b[43mml_client\u001b[49m\u001b[38;5;241;43m.\u001b[39;49m\u001b[43menvironments\u001b[49m\u001b[38;5;241;43m.\u001b[39;49m\u001b[43mget\u001b[49m\u001b[43m(\u001b[49m\u001b[38;5;124;43m'\u001b[39;49m\u001b[38;5;124;43mCliV2AnonymousEnvironment\u001b[39;49m\u001b[38;5;124;43m'\u001b[39;49m\u001b[43m)\u001b[49m\n",
      "File \u001b[1;32m~\\Anaconda3\\envs\\sdkv2\\lib\\site-packages\\azure\\ai\\ml\\_telemetry\\activity.py:258\u001b[0m, in \u001b[0;36mmonitor_with_activity.<locals>.monitor.<locals>.wrapper\u001b[1;34m(*args, **kwargs)\u001b[0m\n\u001b[0;32m    255\u001b[0m \u001b[38;5;129m@functools\u001b[39m\u001b[38;5;241m.\u001b[39mwraps(f)\n\u001b[0;32m    256\u001b[0m \u001b[38;5;28;01mdef\u001b[39;00m \u001b[38;5;21mwrapper\u001b[39m(\u001b[38;5;241m*\u001b[39margs, \u001b[38;5;241m*\u001b[39m\u001b[38;5;241m*\u001b[39mkwargs):\n\u001b[0;32m    257\u001b[0m     \u001b[38;5;28;01mwith\u001b[39;00m log_activity(logger, activity_name \u001b[38;5;129;01mor\u001b[39;00m f\u001b[38;5;241m.\u001b[39m\u001b[38;5;18m__name__\u001b[39m, activity_type, custom_dimensions):\n\u001b[1;32m--> 258\u001b[0m         \u001b[38;5;28;01mreturn\u001b[39;00m f(\u001b[38;5;241m*\u001b[39margs, \u001b[38;5;241m*\u001b[39m\u001b[38;5;241m*\u001b[39mkwargs)\n",
      "File \u001b[1;32m~\\Anaconda3\\envs\\sdkv2\\lib\\site-packages\\azure\\ai\\ml\\operations\\_environment_operations.py:197\u001b[0m, in \u001b[0;36mEnvironmentOperations.get\u001b[1;34m(self, name, version, label)\u001b[0m\n\u001b[0;32m    195\u001b[0m \u001b[38;5;28;01mif\u001b[39;00m \u001b[38;5;129;01mnot\u001b[39;00m version:\n\u001b[0;32m    196\u001b[0m     msg \u001b[38;5;241m=\u001b[39m \u001b[38;5;124m\"\u001b[39m\u001b[38;5;124mMust provide either version or label.\u001b[39m\u001b[38;5;124m\"\u001b[39m\n\u001b[1;32m--> 197\u001b[0m     \u001b[38;5;28;01mraise\u001b[39;00m ValidationException(\n\u001b[0;32m    198\u001b[0m         message\u001b[38;5;241m=\u001b[39mmsg,\n\u001b[0;32m    199\u001b[0m         target\u001b[38;5;241m=\u001b[39mErrorTarget\u001b[38;5;241m.\u001b[39mENVIRONMENT,\n\u001b[0;32m    200\u001b[0m         no_personal_data_message\u001b[38;5;241m=\u001b[39mmsg,\n\u001b[0;32m    201\u001b[0m         error_category\u001b[38;5;241m=\u001b[39mErrorCategory\u001b[38;5;241m.\u001b[39mUSER_ERROR,\n\u001b[0;32m    202\u001b[0m     )\n\u001b[0;32m    203\u001b[0m name \u001b[38;5;241m=\u001b[39m _preprocess_environment_name(name)\n\u001b[0;32m    204\u001b[0m env_version_resource \u001b[38;5;241m=\u001b[39m \u001b[38;5;28mself\u001b[39m\u001b[38;5;241m.\u001b[39m_get(name, version)\n",
      "\u001b[1;31mValidationException\u001b[0m: Must provide either version or label."
     ]
    }
   ],
   "source": [
    "# dep = ml_client.online_deployments.get('red3', 'stable-diffusion-202209172147')\n",
    "ml_client.environments.get('CliV2AnonymousEnvironment', )"
   ]
  },
  {
   "cell_type": "code",
   "execution_count": 17,
   "id": "54568dd1",
   "metadata": {},
   "outputs": [],
   "source": [
    "ml_client.environments.archive('CliV2AnonymousEnvironment', 'dfdf36160ded2fd0f05c8fdac4703dc7')"
   ]
  },
  {
   "cell_type": "code",
   "execution_count": 20,
   "id": "9461fe87",
   "metadata": {},
   "outputs": [
    {
     "data": {
      "text/plain": [
       "<azure.core.polling._poller.LROPoller at 0x1d8c0cf9bd0>"
      ]
     },
     "execution_count": 20,
     "metadata": {},
     "output_type": "execute_result"
    }
   ],
   "source": [
    "ml_client.online_deployments.delete('red3', 'stable-diffusion-202209172147')"
   ]
  },
  {
   "cell_type": "code",
   "execution_count": null,
   "id": "a223b693",
   "metadata": {},
   "outputs": [],
   "source": []
  },
  {
   "cell_type": "code",
   "execution_count": 30,
   "id": "7895026e",
   "metadata": {},
   "outputs": [
    {
     "name": "stderr",
     "output_type": "stream",
     "text": [
      "Check: endpoint stable-diffusion-202209172147 exists\n",
      "\u001b[32mUploading half_plus_two (0.02 MBs): 100%|#####################################| 23847/23847 [00:01<00:00, 23705.96it/s]\u001b[0m\n",
      "\u001b[39m\n",
      "\n",
      "Creating/updating online deployment blue2 "
     ]
    },
    {
     "name": "stdout",
     "output_type": "stream",
     "text": [
      "..............................................................................................................................................................................."
     ]
    },
    {
     "name": "stderr",
     "output_type": "stream",
     "text": [
      "Done (16m 24s)\n"
     ]
    }
   ],
   "source": [
    "model = Model(name=\"tfserving-mounted\", version=\"1\", path=\"half_plus_two\")\n",
    "\n",
    "env = Environment(\n",
    "    image=\"docker.io/tensorflow/serving:latest\",\n",
    "    inference_config={\n",
    "        \"liveness_route\": {\"port\": 8501, \"path\": \"/v1/models/half_plus_two\"},\n",
    "        \"readiness_route\": {\"port\": 8501, \"path\": \"/v1/models/half_plus_two\"},\n",
    "        \"scoring_route\": {\"port\": 8501, \"path\": \"/v1/models/half_plus_two:predict\"},\n",
    "    },\n",
    ")\n",
    "\n",
    "blue_deployment = ManagedOnlineDeployment(\n",
    "    name=\"blue2\",\n",
    "    endpoint_name=endpoint.name,\n",
    "    model=model,\n",
    "    environment=env,\n",
    "    environment_variables={\n",
    "        \"MODEL_BASE_PATH\": \"/var/azureml-app/azureml-models/tfserving-mounted/1\",\n",
    "        \"MODEL_NAME\": \"half_plus_two\",\n",
    "    },\n",
    "    instance_type=\"Standard_F2s_v2\",\n",
    "    instance_count=1,\n",
    ")\n",
    "blue_deployment = ml_client.online_deployments.begin_create_or_update(blue_deployment)"
   ]
  },
  {
   "cell_type": "code",
   "execution_count": 35,
   "id": "18e56dab",
   "metadata": {},
   "outputs": [],
   "source": [
    "#key = ml_client.online_endpoints.list_keys(endpoint.name)\n",
    "#key.as_dict()"
   ]
  },
  {
   "cell_type": "code",
   "execution_count": 36,
   "id": "0d712d46",
   "metadata": {},
   "outputs": [],
   "source": [
    "ManagedOnlineDeployment?"
   ]
  },
  {
   "cell_type": "code",
   "execution_count": 39,
   "id": "b69dc407",
   "metadata": {},
   "outputs": [],
   "source": [
    "OnlineRequestSettings?"
   ]
  },
  {
   "cell_type": "code",
   "execution_count": null,
   "id": "ce3a7465",
   "metadata": {},
   "outputs": [],
   "source": []
  }
 ],
 "metadata": {
  "kernelspec": {
   "display_name": "Python 3 (ipykernel)",
   "language": "python",
   "name": "python3"
  },
  "language_info": {
   "codemirror_mode": {
    "name": "ipython",
    "version": 3
   },
   "file_extension": ".py",
   "mimetype": "text/x-python",
   "name": "python",
   "nbconvert_exporter": "python",
   "pygments_lexer": "ipython3",
   "version": "3.10.5"
  }
 },
 "nbformat": 4,
 "nbformat_minor": 5
}
