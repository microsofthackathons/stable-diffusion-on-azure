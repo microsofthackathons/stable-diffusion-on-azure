{
 "cells": [
  {
   "cell_type": "markdown",
   "id": "70d5c9c8",
   "metadata": {},
   "source": [
    "* https://github.com/Azure/azureml-examples/blob/055a7cd66710197682a26a5014db173f521b0d62/sdk/endpoints/online/triton/single-model/online-endpoints-triton.ipynb\n",
    "* https://github.com/Azure/azureml-examples/blob/c2807d2c42d8491b722c1f5c0276d3c0ba2897c2/sdk/endpoints/online/custom-container/online-endpoints-custom-container.ipynb\n",
    "* https://github.com/Azure/azureml-examples/blob/c2807d2c42d8491b722c1f5c0276d3c0ba2897c2/sdk/endpoints/online/managed/online-endpoints-simple-deployment.ipynb"
   ]
  },
  {
   "cell_type": "code",
   "execution_count": 1,
   "id": "7490cc0d",
   "metadata": {},
   "outputs": [],
   "source": [
    "# Import required libraries\n",
    "import datetime\n",
    "from azure.identity import DefaultAzureCredential\n",
    "from azure.ai.ml import MLClient\n",
    "\n",
    "from azure.ai.ml.constants import AssetTypes, InputOutputModes\n",
    "from azure.ai.ml import Input\n",
    "from azure.ai.ml.automl import ImageClassificationSearchSpace\n",
    "from azure.ai.ml.sweep import (\n",
    "    Choice,\n",
    "    Uniform,\n",
    "    BanditPolicy,\n",
    ")\n",
    "from azure.ai.ml.entities import (\n",
    "    ManagedOnlineEndpoint,\n",
    "    ManagedOnlineDeployment,\n",
    "    BatchDeployment,\n",
    "    Model,\n",
    "    Environment,\n",
    "    CodeConfiguration,\n",
    ")\n",
    "from azure.ai.ml import automl"
   ]
  },
  {
   "cell_type": "code",
   "execution_count": 2,
   "id": "5ef71240",
   "metadata": {},
   "outputs": [
    {
     "name": "stderr",
     "output_type": "stream",
     "text": [
      "Found the config file in: .\\config.json\n"
     ]
    }
   ],
   "source": [
    "credential = DefaultAzureCredential()\n",
    "ml_client = MLClient.from_config(credential)"
   ]
  },
  {
   "cell_type": "code",
   "execution_count": 22,
   "id": "14b460fb",
   "metadata": {},
   "outputs": [],
   "source": [
    "ManagedOnlineDeployment?"
   ]
  },
  {
   "cell_type": "code",
   "execution_count": 5,
   "id": "4c82c62a",
   "metadata": {},
   "outputs": [],
   "source": [
    "model = Model(\n",
    "    path=f\"azureml://datastores/workspaceblobstore/paths/sd-v1-4.ckpt\",\n",
    "    name=\"stable-diffusion-v1-4\",\n",
    "    description=\"\",\n",
    "    tags={},\n",
    ")\n",
    "model = ml_client.create_or_update(model)"
   ]
  },
  {
   "cell_type": "code",
   "execution_count": 37,
   "id": "fe139e60",
   "metadata": {},
   "outputs": [],
   "source": [
    "env = Environment(\n",
    "    # name=\"tensoflow-serving\",\n",
    "    image=\"docker.io/abiosoft/caddy:latest\",\n",
    "    inference_config={\n",
    "        \"liveness_route\": {\"port\": 2015, \"path\": \"/\"},\n",
    "        \"readiness_route\": {\"port\": 2015, \"path\": \"/\"},\n",
    "        \"scoring_route\": {\"port\": 2015, \"path\": \"/\"},\n",
    "    },\n",
    ")\n",
    "# env = ml_client.create_or_update(env)"
   ]
  },
  {
   "cell_type": "code",
   "execution_count": 17,
   "id": "01c0fab2",
   "metadata": {},
   "outputs": [],
   "source": [
    "endpoint = ManagedOnlineEndpoint(\n",
    "    name=\"stable-diffusion-\" + datetime.datetime.now().strftime(\"%Y%m%d%H%M\"),\n",
    "    auth_mode=\"key\",\n",
    ")\n",
    "endpoint = ml_client.online_endpoints.begin_create_or_update(endpoint)"
   ]
  },
  {
   "cell_type": "code",
   "execution_count": 39,
   "id": "243f0f03",
   "metadata": {},
   "outputs": [
    {
     "name": "stderr",
     "output_type": "stream",
     "text": [
      "Check: endpoint stable-diffusion-202209172147 exists\n",
      "Creating/updating online deployment red2 "
     ]
    },
    {
     "name": "stdout",
     "output_type": "stream",
     "text": [
      "......................................................................................................"
     ]
    },
    {
     "name": "stderr",
     "output_type": "stream",
     "text": [
      "Done (9m 30s)\n"
     ]
    }
   ],
   "source": [
    "red_deployment = ManagedOnlineDeployment(\n",
    "    name=\"red2\",\n",
    "    endpoint_name=endpoint.name,\n",
    "    model=model,\n",
    "    environment=env,\n",
    "    environment_variables={\n",
    "        \"MODEL_BASE_PATH\": \"/var/azureml-app/azureml-models/tfserving-mounted/1\",\n",
    "        \"MODEL_NAME\": \"half_plus_two\",\n",
    "    },\n",
    "    instance_type=\"Standard_NC6s_v3\",\n",
    "    instance_count=1,\n",
    "    # compute=compute,\n",
    ")\n",
    "red_deployment = ml_client.begin_create_or_update(red_deployment)"
   ]
  },
  {
   "cell_type": "code",
   "execution_count": 29,
   "id": "9461fe87",
   "metadata": {},
   "outputs": [
    {
     "data": {
      "text/plain": [
       "<azure.core.polling._poller.LROPoller at 0x1f3ecd937f0>"
      ]
     },
     "execution_count": 29,
     "metadata": {},
     "output_type": "execute_result"
    }
   ],
   "source": [
    "ml_client.online_deployments.delete('blue', endpoint.name)"
   ]
  },
  {
   "cell_type": "code",
   "execution_count": 30,
   "id": "7895026e",
   "metadata": {},
   "outputs": [
    {
     "name": "stderr",
     "output_type": "stream",
     "text": [
      "Check: endpoint stable-diffusion-202209172147 exists\n",
      "\u001b[32mUploading half_plus_two (0.02 MBs): 100%|#####################################| 23847/23847 [00:01<00:00, 23705.96it/s]\u001b[0m\n",
      "\u001b[39m\n",
      "\n",
      "Creating/updating online deployment blue2 "
     ]
    },
    {
     "name": "stdout",
     "output_type": "stream",
     "text": [
      "..............................................................................................................................................................................."
     ]
    },
    {
     "name": "stderr",
     "output_type": "stream",
     "text": [
      "Done (16m 24s)\n"
     ]
    }
   ],
   "source": [
    "model = Model(name=\"tfserving-mounted\", version=\"1\", path=\"half_plus_two\")\n",
    "\n",
    "env = Environment(\n",
    "    image=\"docker.io/tensorflow/serving:latest\",\n",
    "    inference_config={\n",
    "        \"liveness_route\": {\"port\": 8501, \"path\": \"/v1/models/half_plus_two\"},\n",
    "        \"readiness_route\": {\"port\": 8501, \"path\": \"/v1/models/half_plus_two\"},\n",
    "        \"scoring_route\": {\"port\": 8501, \"path\": \"/v1/models/half_plus_two:predict\"},\n",
    "    },\n",
    ")\n",
    "\n",
    "blue_deployment = ManagedOnlineDeployment(\n",
    "    name=\"blue2\",\n",
    "    endpoint_name=endpoint.name,\n",
    "    model=model,\n",
    "    environment=env,\n",
    "    environment_variables={\n",
    "        \"MODEL_BASE_PATH\": \"/var/azureml-app/azureml-models/tfserving-mounted/1\",\n",
    "        \"MODEL_NAME\": \"half_plus_two\",\n",
    "    },\n",
    "    instance_type=\"Standard_F2s_v2\",\n",
    "    instance_count=1,\n",
    ")\n",
    "blue_deployment = ml_client.online_deployments.begin_create_or_update(blue_deployment)"
   ]
  },
  {
   "cell_type": "code",
   "execution_count": 40,
   "id": "18e56dab",
   "metadata": {},
   "outputs": [],
   "source": [
    "key = ml_client.online_endpoints.list_keys(endpoint.name)\n",
    "# key.as_dict()"
   ]
  },
  {
   "cell_type": "code",
   "execution_count": 3,
   "id": "0d712d46",
   "metadata": {},
   "outputs": [
    {
     "ename": "NameError",
     "evalue": "name 'model' is not defined",
     "output_type": "error",
     "traceback": [
      "\u001b[1;31m---------------------------------------------------------------------------\u001b[0m",
      "\u001b[1;31mNameError\u001b[0m                                 Traceback (most recent call last)",
      "Input \u001b[1;32mIn [3]\u001b[0m, in \u001b[0;36m<cell line: 15>\u001b[1;34m()\u001b[0m\n\u001b[0;32m     10\u001b[0m endpoint \u001b[38;5;241m=\u001b[39m ManagedOnlineEndpoint(\n\u001b[0;32m     11\u001b[0m     name\u001b[38;5;241m=\u001b[39m\u001b[38;5;124m\"\u001b[39m\u001b[38;5;124msd-webui-\u001b[39m\u001b[38;5;124m\"\u001b[39m \u001b[38;5;241m+\u001b[39m datetime\u001b[38;5;241m.\u001b[39mdatetime\u001b[38;5;241m.\u001b[39mnow()\u001b[38;5;241m.\u001b[39mstrftime(\u001b[38;5;124m\"\u001b[39m\u001b[38;5;124m%\u001b[39m\u001b[38;5;124mY\u001b[39m\u001b[38;5;124m%\u001b[39m\u001b[38;5;124mm\u001b[39m\u001b[38;5;132;01m%d\u001b[39;00m\u001b[38;5;124m%\u001b[39m\u001b[38;5;124mH\u001b[39m\u001b[38;5;124m%\u001b[39m\u001b[38;5;124mM\u001b[39m\u001b[38;5;124m\"\u001b[39m),\n\u001b[0;32m     12\u001b[0m     auth_mode\u001b[38;5;241m=\u001b[39m\u001b[38;5;124m\"\u001b[39m\u001b[38;5;124mkey\u001b[39m\u001b[38;5;124m\"\u001b[39m,\n\u001b[0;32m     13\u001b[0m )\n\u001b[0;32m     14\u001b[0m endpoint \u001b[38;5;241m=\u001b[39m ml_client\u001b[38;5;241m.\u001b[39monline_endpoints\u001b[38;5;241m.\u001b[39mbegin_create_or_update(endpoint)\n\u001b[0;32m     15\u001b[0m green_deployment \u001b[38;5;241m=\u001b[39m ManagedOnlineDeployment(\n\u001b[0;32m     16\u001b[0m     name\u001b[38;5;241m=\u001b[39m\u001b[38;5;124m\"\u001b[39m\u001b[38;5;124mgreen\u001b[39m\u001b[38;5;124m\"\u001b[39m,\n\u001b[0;32m     17\u001b[0m     endpoint_name\u001b[38;5;241m=\u001b[39mendpoint\u001b[38;5;241m.\u001b[39mname,\n\u001b[1;32m---> 18\u001b[0m     model\u001b[38;5;241m=\u001b[39m\u001b[43mmodel\u001b[49m,\n\u001b[0;32m     19\u001b[0m     environment\u001b[38;5;241m=\u001b[39menv,\n\u001b[0;32m     20\u001b[0m     environment_variables\u001b[38;5;241m=\u001b[39m{\n\u001b[0;32m     21\u001b[0m         \u001b[38;5;124m\"\u001b[39m\u001b[38;5;124mMODEL_BASE_PATH\u001b[39m\u001b[38;5;124m\"\u001b[39m: \u001b[38;5;124m\"\u001b[39m\u001b[38;5;124m/var/azureml-app/azureml-models/tfserving-mounted/1\u001b[39m\u001b[38;5;124m\"\u001b[39m,\n\u001b[0;32m     22\u001b[0m         \u001b[38;5;124m\"\u001b[39m\u001b[38;5;124mMODEL_NAME\u001b[39m\u001b[38;5;124m\"\u001b[39m: \u001b[38;5;124m\"\u001b[39m\u001b[38;5;124mhalf_plus_two\u001b[39m\u001b[38;5;124m\"\u001b[39m,\n\u001b[0;32m     23\u001b[0m     },\n\u001b[0;32m     24\u001b[0m     instance_type\u001b[38;5;241m=\u001b[39m\u001b[38;5;124m\"\u001b[39m\u001b[38;5;124mStandard_NC6s_v3\u001b[39m\u001b[38;5;124m\"\u001b[39m,\n\u001b[0;32m     25\u001b[0m     instance_count\u001b[38;5;241m=\u001b[39m\u001b[38;5;241m1\u001b[39m,\n\u001b[0;32m     26\u001b[0m )\n\u001b[0;32m     27\u001b[0m green_deployment \u001b[38;5;241m=\u001b[39m ml_client\u001b[38;5;241m.\u001b[39monline_deployments\u001b[38;5;241m.\u001b[39mbegin_create_or_update(green_deployment, no_wait\u001b[38;5;241m=\u001b[39m\u001b[38;5;28;01mTrue\u001b[39;00m)\n",
      "\u001b[1;31mNameError\u001b[0m: name 'model' is not defined"
     ]
    }
   ],
   "source": [
    "\n"
   ]
  },
  {
   "cell_type": "code",
   "execution_count": 4,
   "id": "b69dc407",
   "metadata": {},
   "outputs": [
    {
     "name": "stderr",
     "output_type": "stream",
     "text": [
      "Check: endpoint sd-webui-202209190838 exists\n",
      "Online deployment create/update request initiated. Status can be checked using `az ml online-deployment show -e sd-webui-202209190838 -n green`\n",
      "\n"
     ]
    }
   ],
   "source": []
  },
  {
   "cell_type": "code",
   "execution_count": null,
   "id": "ce3a7465",
   "metadata": {},
   "outputs": [],
   "source": []
  }
 ],
 "metadata": {
  "kernelspec": {
   "display_name": "Python 3 (ipykernel)",
   "language": "python",
   "name": "python3"
  },
  "language_info": {
   "codemirror_mode": {
    "name": "ipython",
    "version": 3
   },
   "file_extension": ".py",
   "mimetype": "text/x-python",
   "name": "python",
   "nbconvert_exporter": "python",
   "pygments_lexer": "ipython3",
   "version": "3.10.5"
  }
 },
 "nbformat": 4,
 "nbformat_minor": 5
}
