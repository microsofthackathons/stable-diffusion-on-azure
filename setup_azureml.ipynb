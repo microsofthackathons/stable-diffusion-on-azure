{
 "cells": [
  {
   "cell_type": "markdown",
   "id": "70d5c9c8",
   "metadata": {},
   "source": [
    "* https://github.com/Azure/azureml-examples/blob/055a7cd66710197682a26a5014db173f521b0d62/sdk/endpoints/online/triton/single-model/online-endpoints-triton.ipynb\n",
    "* https://github.com/Azure/azureml-examples/blob/c2807d2c42d8491b722c1f5c0276d3c0ba2897c2/sdk/endpoints/online/custom-container/online-endpoints-custom-container.ipynb\n",
    "* https://github.com/Azure/azureml-examples/blob/c2807d2c42d8491b722c1f5c0276d3c0ba2897c2/sdk/endpoints/online/managed/online-endpoints-simple-deployment.ipynb"
   ]
  },
  {
   "cell_type": "code",
   "execution_count": 1,
   "id": "7490cc0d",
   "metadata": {},
   "outputs": [
    {
     "name": "stderr",
     "output_type": "stream",
     "text": [
      "C:\\Users\\smamgain\\Anaconda3\\lib\\site-packages\\paramiko\\transport.py:219: CryptographyDeprecationWarning: Blowfish has been deprecated\n",
      "  \"class\": algorithms.Blowfish,\n"
     ]
    }
   ],
   "source": [
    "# Import required libraries\n",
    "import datetime\n",
    "from azure.identity import DefaultAzureCredential\n",
    "from azure.ai.ml import MLClient\n",
    "\n",
    "from azure.ai.ml.constants import AssetTypes, InputOutputModes\n",
    "from azure.ai.ml import Input\n",
    "from azure.ai.ml.automl import ImageClassificationSearchSpace\n",
    "from azure.ai.ml.sweep import (\n",
    "    Choice,\n",
    "    Uniform,\n",
    "    BanditPolicy,\n",
    ")\n",
    "from azure.ai.ml.entities import (\n",
    "    ManagedOnlineEndpoint,\n",
    "    ManagedOnlineDeployment,\n",
    "    BatchDeployment,\n",
    "    Model,\n",
    "    Environment,\n",
    "    CodeConfiguration,\n",
    "    OnlineRequestSettings, ProbeSettings\n",
    ")\n",
    "from azure.ai.ml import automl"
   ]
  },
  {
   "cell_type": "code",
   "execution_count": 2,
   "id": "5ef71240",
   "metadata": {},
   "outputs": [
    {
     "name": "stderr",
     "output_type": "stream",
     "text": [
      "Found the config file in: .\\config.json\n"
     ]
    }
   ],
   "source": [
    "credential = DefaultAzureCredential()\n",
    "ml_client = MLClient.from_config(credential)"
   ]
  },
  {
   "cell_type": "code",
   "execution_count": 4,
   "id": "14b460fb",
   "metadata": {},
   "outputs": [],
   "source": [
    "compute = ml_client.compute.get('nc6-cluster')"
   ]
  },
  {
   "cell_type": "code",
   "execution_count": 4,
   "id": "4c82c62a",
   "metadata": {},
   "outputs": [],
   "source": [
    "model = Model(\n",
    "    path=f\"azureml://datastores/workspaceblobstore/paths/stable-diffusion-v1.ckpt\",\n",
    "    name=\"stable-diffusion-v1\",\n",
    "    description=\"\",\n",
    "    tags={},\n",
    ")\n",
    "model = ml_client.create_or_update(model)"
   ]
  },
  {
   "cell_type": "code",
   "execution_count": 10,
   "id": "fe139e60",
   "metadata": {},
   "outputs": [],
   "source": [
    "env = Environment(\n",
    "    # name=\"tensoflow-serving\",\n",
    "    image=\"docker.io/shivammg/stable-diffusion:v1\",\n",
    "    inference_config={\n",
    "        \"liveness_route\": {\"port\": 5000, \"path\": \"/api/health\"},\n",
    "        \"readiness_route\": {\"port\": 5000, \"path\": \"/api/health\"},\n",
    "        \"scoring_route\": {\"port\": 5000, \"path\": \"/api/txt2img\"},\n",
    "    },\n",
    ")\n",
    "# env = ml_client.create_or_update(env)"
   ]
  },
  {
   "cell_type": "code",
   "execution_count": 7,
   "id": "01c0fab2",
   "metadata": {},
   "outputs": [],
   "source": [
    "# endpoint = ManagedOnlineEndpoint(\n",
    "#     name=\"stable-diffusion-\" + datetime.datetime.now().strftime(\"%Y%m%d%H%M\"),\n",
    "#     auth_mode=\"key\",\n",
    "# )\n",
    "# endpoint = ml_client.online_endpoints.begin_create_or_update(endpoint)\n",
    "endpoint = list(ml_client.online_endpoints.list())[0]"
   ]
  },
  {
   "cell_type": "code",
   "execution_count": 16,
   "id": "243f0f03",
   "metadata": {},
   "outputs": [
    {
     "name": "stderr",
     "output_type": "stream",
     "text": [
      "Check: endpoint stable-diffusion-202209211753 exists\n",
      "Creating/updating online deployment deployment8 "
     ]
    },
    {
     "name": "stdout",
     "output_type": "stream",
     "text": [
      "........................................................................................................................................................................."
     ]
    },
    {
     "name": "stderr",
     "output_type": "stream",
     "text": [
      "Done (15m 48s)\n"
     ]
    }
   ],
   "source": [
    "\n",
    "red_deployment = ManagedOnlineDeployment(\n",
    "    name=\"deployment8\",\n",
    "    endpoint_name='stable-diffusion-202209211753',\n",
    "    model=model,\n",
    "    environment=env,\n",
    "    environment_variables={\n",
    "        #\"MODEL_BASE_PATH\": \"/var/azureml-app/azureml-models/tfserving-mounted/1\",\n",
    "        #\"MODEL_NAME\": \"half_plus_two\",\n",
    "        \"MODEL_DIR\": \"/var/azureml-app/azureml-models/stable-diffusion-v1/1\",\n",
    "    },\n",
    "    instance_type=\"Standard_NC6s_v3\",\n",
    "    instance_count=1,\n",
    "    # compute=compute,\n",
    "    request_settings=OnlineRequestSettings(request_timeout_ms=60*1000, max_concurrent_requests_per_instance=2, max_queue_wait_ms=1*1000),\n",
    "    liveness_probe=ProbeSettings(failure_threshold=30, timeout=5, period=10, initial_delay=10),\n",
    "    readiness_probe=ProbeSettings(failure_threshold=5, timeout=5, period=5, initial_delay=10),\n",
    ")\n",
    "red_deployment = ml_client.begin_create_or_update(red_deployment)"
   ]
  },
  {
   "cell_type": "code",
   "execution_count": 5,
   "id": "e1d25e15",
   "metadata": {},
   "outputs": [],
   "source": [
    "# dep = ml_client.online_deployments.get('red3', 'stable-diffusion-202209172147')\n",
    "# ml_client.environments.get('CliV2AnonymousEnvironment', )"
   ]
  },
  {
   "cell_type": "code",
   "execution_count": null,
   "id": "54568dd1",
   "metadata": {},
   "outputs": [],
   "source": []
  },
  {
   "cell_type": "code",
   "execution_count": 20,
   "id": "9461fe87",
   "metadata": {},
   "outputs": [
    {
     "data": {
      "text/plain": [
       "<azure.core.polling._poller.LROPoller at 0x1d8c0cf9bd0>"
      ]
     },
     "execution_count": 20,
     "metadata": {},
     "output_type": "execute_result"
    }
   ],
   "source": [
    "ml_client.online_deployments.delete('red3', 'stable-diffusion-202209172147')"
   ]
  },
  {
   "cell_type": "code",
   "execution_count": 9,
   "id": "a223b693",
   "metadata": {},
   "outputs": [],
   "source": [
    "from azure.ai.ml.entities import ProbeSettings\n",
    "ProbeSettings?"
   ]
  },
  {
   "cell_type": "code",
   "execution_count": 30,
   "id": "7895026e",
   "metadata": {},
   "outputs": [
    {
     "name": "stderr",
     "output_type": "stream",
     "text": [
      "Check: endpoint stable-diffusion-202209172147 exists\n",
      "\u001b[32mUploading half_plus_two (0.02 MBs): 100%|#####################################| 23847/23847 [00:01<00:00, 23705.96it/s]\u001b[0m\n",
      "\u001b[39m\n",
      "\n",
      "Creating/updating online deployment blue2 "
     ]
    },
    {
     "name": "stdout",
     "output_type": "stream",
     "text": [
      "..............................................................................................................................................................................."
     ]
    },
    {
     "name": "stderr",
     "output_type": "stream",
     "text": [
      "Done (16m 24s)\n"
     ]
    }
   ],
   "source": [
    "model = Model(name=\"tfserving-mounted\", version=\"1\", path=\"half_plus_two\")\n",
    "\n",
    "env = Environment(\n",
    "    image=\"docker.io/tensorflow/serving:latest\",\n",
    "    inference_config={\n",
    "        \"liveness_route\": {\"port\": 8501, \"path\": \"/v1/models/half_plus_two\"},\n",
    "        \"readiness_route\": {\"port\": 8501, \"path\": \"/v1/models/half_plus_two\"},\n",
    "        \"scoring_route\": {\"port\": 8501, \"path\": \"/v1/models/half_plus_two:predict\"},\n",
    "    },\n",
    ")\n",
    "\n",
    "blue_deployment = ManagedOnlineDeployment(\n",
    "    name=\"blue2\",\n",
    "    endpoint_name=endpoint.name,\n",
    "    model=model,\n",
    "    environment=env,\n",
    "    environment_variables={\n",
    "        \"MODEL_BASE_PATH\": \"/var/azureml-app/azureml-models/tfserving-mounted/1\",\n",
    "        \"MODEL_NAME\": \"half_plus_two\",\n",
    "    },\n",
    "    instance_type=\"Standard_F2s_v2\",\n",
    "    instance_count=1,\n",
    ")\n",
    "blue_deployment = ml_client.online_deployments.begin_create_or_update(blue_deployment)"
   ]
  },
  {
   "cell_type": "code",
   "execution_count": 8,
   "id": "18e56dab",
   "metadata": {},
   "outputs": [],
   "source": [
    "key = ml_client.online_endpoints.list_keys(endpoint.name)\n",
    "primary_key = key.as_dict()['primary_key']\n",
    "with open('online-endpoint-key.txt', 'w') as f:\n",
    "    f.write(primary_key)"
   ]
  },
  {
   "cell_type": "code",
   "execution_count": 8,
   "id": "0d712d46",
   "metadata": {},
   "outputs": [],
   "source": [
    "ManagedOnlineDeployment?"
   ]
  },
  {
   "cell_type": "code",
   "execution_count": 39,
   "id": "b69dc407",
   "metadata": {},
   "outputs": [],
   "source": [
    "OnlineRequestSettings?"
   ]
  },
  {
   "cell_type": "code",
   "execution_count": null,
   "id": "ce3a7465",
   "metadata": {},
   "outputs": [],
   "source": []
  }
 ],
 "metadata": {
  "kernelspec": {
   "display_name": "Python 3 (ipykernel)",
   "language": "python",
   "name": "python3"
  },
  "language_info": {
   "codemirror_mode": {
    "name": "ipython",
    "version": 3
   },
   "file_extension": ".py",
   "mimetype": "text/x-python",
   "name": "python",
   "nbconvert_exporter": "python",
   "pygments_lexer": "ipython3",
   "version": "3.10.5"
  }
 },
 "nbformat": 4,
 "nbformat_minor": 5
}
